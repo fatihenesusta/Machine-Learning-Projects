{
 "cells": [
  {
   "cell_type": "code",
   "execution_count": 1,
   "metadata": {},
   "outputs": [],
   "source": [
    "# python version: python3\n",
    "import matplotlib.pyplot as plt\n",
    "import numpy as np\n",
    "import pandas as pd\n",
    "import sklearn.linear_model\n",
    "import os\n"
   ]
  },
  {
   "cell_type": "code",
   "execution_count": null,
   "metadata": {},
   "outputs": [],
   "source": []
  },
  {
   "cell_type": "markdown",
   "metadata": {},
   "source": [
    "### part a"
   ]
  },
  {
   "cell_type": "code",
   "execution_count": 2,
   "metadata": {},
   "outputs": [],
   "source": [
    "#reading all features except price\n",
    "train_x_a = pd.read_csv(\"training.csv\").drop(\"price\", axis = 1)\n",
    "#reading only price\n",
    "train_y = pd.read_csv(\"training.csv\", usecols = [\"price\"])\n",
    "\n",
    "\n",
    "\n",
    "\n"
   ]
  },
  {
   "cell_type": "code",
   "execution_count": 3,
   "metadata": {},
   "outputs": [
    {
     "data": {
      "text/html": [
       "<div>\n",
       "<style scoped>\n",
       "    .dataframe tbody tr th:only-of-type {\n",
       "        vertical-align: middle;\n",
       "    }\n",
       "\n",
       "    .dataframe tbody tr th {\n",
       "        vertical-align: top;\n",
       "    }\n",
       "\n",
       "    .dataframe thead th {\n",
       "        text-align: right;\n",
       "    }\n",
       "</style>\n",
       "<table border=\"1\" class=\"dataframe\">\n",
       "  <thead>\n",
       "    <tr style=\"text-align: right;\">\n",
       "      <th></th>\n",
       "      <th>fueltype</th>\n",
       "      <th>aspiration</th>\n",
       "      <th>doornumber</th>\n",
       "      <th>carbody</th>\n",
       "      <th>drivewheel</th>\n",
       "      <th>enginelocation</th>\n",
       "      <th>wheelbase</th>\n",
       "      <th>carlength</th>\n",
       "      <th>carwidth</th>\n",
       "      <th>carheight</th>\n",
       "      <th>...</th>\n",
       "      <th>cylindernumber</th>\n",
       "      <th>enginesize</th>\n",
       "      <th>fuelsystem</th>\n",
       "      <th>boreratio</th>\n",
       "      <th>stroke</th>\n",
       "      <th>compressionratio</th>\n",
       "      <th>horsepower</th>\n",
       "      <th>peakrpm</th>\n",
       "      <th>citympg</th>\n",
       "      <th>highwaympg</th>\n",
       "    </tr>\n",
       "  </thead>\n",
       "  <tbody>\n",
       "    <tr>\n",
       "      <th>0</th>\n",
       "      <td>gas</td>\n",
       "      <td>std</td>\n",
       "      <td>four</td>\n",
       "      <td>sedan</td>\n",
       "      <td>rwd</td>\n",
       "      <td>front</td>\n",
       "      <td>104.3</td>\n",
       "      <td>188.8</td>\n",
       "      <td>67.2</td>\n",
       "      <td>56.2</td>\n",
       "      <td>...</td>\n",
       "      <td>four</td>\n",
       "      <td>141.0</td>\n",
       "      <td>mpfi</td>\n",
       "      <td>NaN</td>\n",
       "      <td>3.15</td>\n",
       "      <td>9.5</td>\n",
       "      <td>114.0</td>\n",
       "      <td>5400.0</td>\n",
       "      <td>24.0</td>\n",
       "      <td>28.0</td>\n",
       "    </tr>\n",
       "    <tr>\n",
       "      <th>1</th>\n",
       "      <td>gas</td>\n",
       "      <td>std</td>\n",
       "      <td>four</td>\n",
       "      <td>wagon</td>\n",
       "      <td>fwd</td>\n",
       "      <td>front</td>\n",
       "      <td>94.5</td>\n",
       "      <td>170.2</td>\n",
       "      <td>63.8</td>\n",
       "      <td>53.5</td>\n",
       "      <td>...</td>\n",
       "      <td>four</td>\n",
       "      <td>97.0</td>\n",
       "      <td>2bbl</td>\n",
       "      <td>3.15</td>\n",
       "      <td>3.29</td>\n",
       "      <td>9.4</td>\n",
       "      <td>69.0</td>\n",
       "      <td>5200.0</td>\n",
       "      <td>31.0</td>\n",
       "      <td>37.0</td>\n",
       "    </tr>\n",
       "  </tbody>\n",
       "</table>\n",
       "<p>2 rows × 22 columns</p>\n",
       "</div>"
      ],
      "text/plain": [
       "  fueltype aspiration doornumber carbody drivewheel enginelocation  wheelbase  \\\n",
       "0      gas        std       four   sedan        rwd          front      104.3   \n",
       "1      gas        std       four   wagon        fwd          front       94.5   \n",
       "\n",
       "   carlength  carwidth  carheight  ...  cylindernumber enginesize fuelsystem  \\\n",
       "0      188.8      67.2       56.2  ...            four      141.0       mpfi   \n",
       "1      170.2      63.8       53.5  ...            four       97.0       2bbl   \n",
       "\n",
       "   boreratio stroke  compressionratio  horsepower  peakrpm  citympg  \\\n",
       "0        NaN   3.15               9.5       114.0   5400.0     24.0   \n",
       "1       3.15   3.29               9.4        69.0   5200.0     31.0   \n",
       "\n",
       "   highwaympg  \n",
       "0        28.0  \n",
       "1        37.0  \n",
       "\n",
       "[2 rows x 22 columns]"
      ]
     },
     "execution_count": 3,
     "metadata": {},
     "output_type": "execute_result"
    }
   ],
   "source": [
    "train_x_a.head(2)"
   ]
  },
  {
   "cell_type": "code",
   "execution_count": 4,
   "metadata": {},
   "outputs": [
    {
     "data": {
      "text/html": [
       "<div>\n",
       "<style scoped>\n",
       "    .dataframe tbody tr th:only-of-type {\n",
       "        vertical-align: middle;\n",
       "    }\n",
       "\n",
       "    .dataframe tbody tr th {\n",
       "        vertical-align: top;\n",
       "    }\n",
       "\n",
       "    .dataframe thead th {\n",
       "        text-align: right;\n",
       "    }\n",
       "</style>\n",
       "<table border=\"1\" class=\"dataframe\">\n",
       "  <thead>\n",
       "    <tr style=\"text-align: right;\">\n",
       "      <th></th>\n",
       "      <th>price</th>\n",
       "    </tr>\n",
       "  </thead>\n",
       "  <tbody>\n",
       "    <tr>\n",
       "      <th>0</th>\n",
       "      <td>15985.0</td>\n",
       "    </tr>\n",
       "    <tr>\n",
       "      <th>1</th>\n",
       "      <td>7349.0</td>\n",
       "    </tr>\n",
       "  </tbody>\n",
       "</table>\n",
       "</div>"
      ],
      "text/plain": [
       "     price\n",
       "0  15985.0\n",
       "1   7349.0"
      ]
     },
     "execution_count": 4,
     "metadata": {},
     "output_type": "execute_result"
    }
   ],
   "source": [
    "train_y.head(2)"
   ]
  },
  {
   "cell_type": "markdown",
   "metadata": {},
   "source": [
    "### part b"
   ]
  },
  {
   "cell_type": "code",
   "execution_count": 5,
   "metadata": {},
   "outputs": [],
   "source": [
    "#here i get the non_columns by using isnull and any and store them.\n",
    "nan_columns = [i for i in train_x_a.columns if train_x_a[i].isnull().any()]\n",
    "#i look at train_y and store the na ones' indexes\n",
    "train_y_null_indexes = train_y[train_y['price'].isnull()].index.tolist()\n",
    "#dropping na values from train_y\n",
    "train_y = train_y.dropna()\n",
    "#by using the code i stored y null indexes, i drop the very same ones from train_x_a\n",
    "train_x_a = train_x_a.drop(index = train_y_null_indexes)\n",
    "\n",
    "#In this part i get the median values of every feature, and store them because in future too.\n",
    "median_wheelbase_a = train_x_a['wheelbase'].median()\n",
    "median_carlength_a = train_x_a['carlength'].median()\n",
    "median_carwidth_a = train_x_a['carwidth'].median()\n",
    "median_carheight_a = train_x_a['carheight'].median()\n",
    "median_curbweight_a = train_x_a['curbweight'].median()\n",
    "median_enginesize_a = train_x_a['enginesize'].median()\n",
    "median_boreratio_a = train_x_a['boreratio'].median()\n",
    "median_stroke_a = train_x_a['stroke'].median()\n",
    "median_compressionratio_a = train_x_a['compressionratio'].median()\n",
    "median_horsepower_a = train_x_a['horsepower'].median()\n",
    "median_carwidth_a = train_x_a['carwidth'].median()\n",
    "median_peakrpm_a = train_x_a['peakrpm'].median()\n",
    "median_citympg_a = train_x_a['citympg'].median()\n",
    "median_highwaympg_a = train_x_a['highwaympg'].median()\n",
    "median_price_a = train_y['price'].median()\n",
    "\n",
    "train_x_b = train_x_a.fillna({\n",
    "    'wheelbase': median_wheelbase_a,\n",
    "    'carlength': median_carlength_a,\n",
    "    'carheight': median_carheight_a,\n",
    "    'carwidth': median_carwidth_a,\n",
    "    'curbweight': median_curbweight_a,\n",
    "    'enginesize': median_enginesize_a,\n",
    "    'boreratio': median_boreratio_a,\n",
    "    'stroke': median_stroke_a,\n",
    "    'compressionratio': median_compressionratio_a,\n",
    "    'horsepower': median_horsepower_a,\n",
    "    'carwidth': median_carwidth_a,\n",
    "    'peakrpm': median_peakrpm_a,\n",
    "    'citympg': median_citympg_a,\n",
    "    'highwaympg': median_highwaympg_a})\n"
   ]
  },
  {
   "cell_type": "code",
   "execution_count": 6,
   "metadata": {},
   "outputs": [
    {
     "name": "stdout",
     "output_type": "stream",
     "text": [
      "['wheelbase', 'carlength', 'carwidth', 'carheight', 'curbweight', 'enginesize', 'boreratio', 'stroke', 'compressionratio', 'horsepower', 'peakrpm', 'citympg', 'highwaympg']\n"
     ]
    }
   ],
   "source": [
    "print(nan_columns)"
   ]
  },
  {
   "cell_type": "code",
   "execution_count": 7,
   "metadata": {},
   "outputs": [
    {
     "data": {
      "text/html": [
       "<div>\n",
       "<style scoped>\n",
       "    .dataframe tbody tr th:only-of-type {\n",
       "        vertical-align: middle;\n",
       "    }\n",
       "\n",
       "    .dataframe tbody tr th {\n",
       "        vertical-align: top;\n",
       "    }\n",
       "\n",
       "    .dataframe thead th {\n",
       "        text-align: right;\n",
       "    }\n",
       "</style>\n",
       "<table border=\"1\" class=\"dataframe\">\n",
       "  <thead>\n",
       "    <tr style=\"text-align: right;\">\n",
       "      <th></th>\n",
       "      <th>fueltype</th>\n",
       "      <th>aspiration</th>\n",
       "      <th>doornumber</th>\n",
       "      <th>carbody</th>\n",
       "      <th>drivewheel</th>\n",
       "      <th>enginelocation</th>\n",
       "      <th>wheelbase</th>\n",
       "      <th>carlength</th>\n",
       "      <th>carwidth</th>\n",
       "      <th>carheight</th>\n",
       "      <th>...</th>\n",
       "      <th>cylindernumber</th>\n",
       "      <th>enginesize</th>\n",
       "      <th>fuelsystem</th>\n",
       "      <th>boreratio</th>\n",
       "      <th>stroke</th>\n",
       "      <th>compressionratio</th>\n",
       "      <th>horsepower</th>\n",
       "      <th>peakrpm</th>\n",
       "      <th>citympg</th>\n",
       "      <th>highwaympg</th>\n",
       "    </tr>\n",
       "  </thead>\n",
       "  <tbody>\n",
       "    <tr>\n",
       "      <th>0</th>\n",
       "      <td>gas</td>\n",
       "      <td>std</td>\n",
       "      <td>four</td>\n",
       "      <td>sedan</td>\n",
       "      <td>rwd</td>\n",
       "      <td>front</td>\n",
       "      <td>104.3</td>\n",
       "      <td>188.8</td>\n",
       "      <td>67.2</td>\n",
       "      <td>56.2</td>\n",
       "      <td>...</td>\n",
       "      <td>four</td>\n",
       "      <td>141.0</td>\n",
       "      <td>mpfi</td>\n",
       "      <td>3.31</td>\n",
       "      <td>3.15</td>\n",
       "      <td>9.5</td>\n",
       "      <td>114.0</td>\n",
       "      <td>5400.0</td>\n",
       "      <td>24.0</td>\n",
       "      <td>28.0</td>\n",
       "    </tr>\n",
       "    <tr>\n",
       "      <th>1</th>\n",
       "      <td>gas</td>\n",
       "      <td>std</td>\n",
       "      <td>four</td>\n",
       "      <td>wagon</td>\n",
       "      <td>fwd</td>\n",
       "      <td>front</td>\n",
       "      <td>94.5</td>\n",
       "      <td>170.2</td>\n",
       "      <td>63.8</td>\n",
       "      <td>53.5</td>\n",
       "      <td>...</td>\n",
       "      <td>four</td>\n",
       "      <td>97.0</td>\n",
       "      <td>2bbl</td>\n",
       "      <td>3.15</td>\n",
       "      <td>3.29</td>\n",
       "      <td>9.4</td>\n",
       "      <td>69.0</td>\n",
       "      <td>5200.0</td>\n",
       "      <td>31.0</td>\n",
       "      <td>37.0</td>\n",
       "    </tr>\n",
       "  </tbody>\n",
       "</table>\n",
       "<p>2 rows × 22 columns</p>\n",
       "</div>"
      ],
      "text/plain": [
       "  fueltype aspiration doornumber carbody drivewheel enginelocation  wheelbase  \\\n",
       "0      gas        std       four   sedan        rwd          front      104.3   \n",
       "1      gas        std       four   wagon        fwd          front       94.5   \n",
       "\n",
       "   carlength  carwidth  carheight  ...  cylindernumber enginesize fuelsystem  \\\n",
       "0      188.8      67.2       56.2  ...            four      141.0       mpfi   \n",
       "1      170.2      63.8       53.5  ...            four       97.0       2bbl   \n",
       "\n",
       "   boreratio stroke  compressionratio  horsepower  peakrpm  citympg  \\\n",
       "0       3.31   3.15               9.5       114.0   5400.0     24.0   \n",
       "1       3.15   3.29               9.4        69.0   5200.0     31.0   \n",
       "\n",
       "   highwaympg  \n",
       "0        28.0  \n",
       "1        37.0  \n",
       "\n",
       "[2 rows x 22 columns]"
      ]
     },
     "execution_count": 7,
     "metadata": {},
     "output_type": "execute_result"
    }
   ],
   "source": [
    "train_x_b.head(2)"
   ]
  },
  {
   "cell_type": "markdown",
   "metadata": {},
   "source": [
    "### part c"
   ]
  },
  {
   "cell_type": "code",
   "execution_count": 8,
   "metadata": {},
   "outputs": [],
   "source": [
    "#i gel the columns of train_x_b\n",
    "col_x_b = train_x_b.columns\n",
    "#getting the numerical columns.\n",
    "num_x_b = train_x_b._get_numeric_data().columns\n",
    "\n",
    "#by doing col_x_b - num_x_b = i get categorical columns, just like (1 - what you have = what you want/probability.)\n",
    "categorical_columns =  [i for i in set(col_x_b) - set(num_x_b)]\n"
   ]
  },
  {
   "cell_type": "code",
   "execution_count": 9,
   "metadata": {},
   "outputs": [
    {
     "name": "stdout",
     "output_type": "stream",
     "text": [
      "['fueltype', 'cylindernumber', 'drivewheel', 'fuelsystem', 'enginelocation', 'enginetype', 'carbody', 'doornumber', 'aspiration']\n"
     ]
    }
   ],
   "source": [
    "print(categorical_columns)"
   ]
  },
  {
   "cell_type": "markdown",
   "metadata": {},
   "source": [
    "### part d"
   ]
  },
  {
   "cell_type": "code",
   "execution_count": 10,
   "metadata": {},
   "outputs": [],
   "source": [
    "#get the data from b to d\n",
    "train_x_d = train_x_b.copy()\n",
    "#get one hot encoding with dummies with a for loop\n",
    "for column in categorical_columns:\n",
    "    train_x_d = pd.get_dummies(train_x_d, columns=[column], prefix = [column])\n",
    "\n",
    "#i also store the x_d_column for the next part.    \n",
    "train_x_d_column = []\n",
    "for column in train_x_d:\n",
    "    train_x_d_column.append(column)\n"
   ]
  },
  {
   "cell_type": "code",
   "execution_count": 11,
   "metadata": {},
   "outputs": [
    {
     "data": {
      "text/html": [
       "<div>\n",
       "<style scoped>\n",
       "    .dataframe tbody tr th:only-of-type {\n",
       "        vertical-align: middle;\n",
       "    }\n",
       "\n",
       "    .dataframe tbody tr th {\n",
       "        vertical-align: top;\n",
       "    }\n",
       "\n",
       "    .dataframe thead th {\n",
       "        text-align: right;\n",
       "    }\n",
       "</style>\n",
       "<table border=\"1\" class=\"dataframe\">\n",
       "  <thead>\n",
       "    <tr style=\"text-align: right;\">\n",
       "      <th></th>\n",
       "      <th>wheelbase</th>\n",
       "      <th>carlength</th>\n",
       "      <th>carwidth</th>\n",
       "      <th>carheight</th>\n",
       "      <th>curbweight</th>\n",
       "      <th>enginesize</th>\n",
       "      <th>boreratio</th>\n",
       "      <th>stroke</th>\n",
       "      <th>compressionratio</th>\n",
       "      <th>horsepower</th>\n",
       "      <th>...</th>\n",
       "      <th>enginetype_rotor</th>\n",
       "      <th>carbody_convertible</th>\n",
       "      <th>carbody_hardtop</th>\n",
       "      <th>carbody_hatchback</th>\n",
       "      <th>carbody_sedan</th>\n",
       "      <th>carbody_wagon</th>\n",
       "      <th>doornumber_four</th>\n",
       "      <th>doornumber_two</th>\n",
       "      <th>aspiration_std</th>\n",
       "      <th>aspiration_turbo</th>\n",
       "    </tr>\n",
       "  </thead>\n",
       "  <tbody>\n",
       "    <tr>\n",
       "      <th>0</th>\n",
       "      <td>104.3</td>\n",
       "      <td>188.8</td>\n",
       "      <td>67.2</td>\n",
       "      <td>56.2</td>\n",
       "      <td>2403.0</td>\n",
       "      <td>141.0</td>\n",
       "      <td>3.31</td>\n",
       "      <td>3.15</td>\n",
       "      <td>9.5</td>\n",
       "      <td>114.0</td>\n",
       "      <td>...</td>\n",
       "      <td>0</td>\n",
       "      <td>0</td>\n",
       "      <td>0</td>\n",
       "      <td>0</td>\n",
       "      <td>1</td>\n",
       "      <td>0</td>\n",
       "      <td>1</td>\n",
       "      <td>0</td>\n",
       "      <td>1</td>\n",
       "      <td>0</td>\n",
       "    </tr>\n",
       "    <tr>\n",
       "      <th>1</th>\n",
       "      <td>94.5</td>\n",
       "      <td>170.2</td>\n",
       "      <td>63.8</td>\n",
       "      <td>53.5</td>\n",
       "      <td>2024.0</td>\n",
       "      <td>97.0</td>\n",
       "      <td>3.15</td>\n",
       "      <td>3.29</td>\n",
       "      <td>9.4</td>\n",
       "      <td>69.0</td>\n",
       "      <td>...</td>\n",
       "      <td>0</td>\n",
       "      <td>0</td>\n",
       "      <td>0</td>\n",
       "      <td>0</td>\n",
       "      <td>0</td>\n",
       "      <td>1</td>\n",
       "      <td>1</td>\n",
       "      <td>0</td>\n",
       "      <td>1</td>\n",
       "      <td>0</td>\n",
       "    </tr>\n",
       "  </tbody>\n",
       "</table>\n",
       "<p>2 rows × 49 columns</p>\n",
       "</div>"
      ],
      "text/plain": [
       "   wheelbase  carlength  carwidth  carheight  curbweight  enginesize  \\\n",
       "0      104.3      188.8      67.2       56.2      2403.0       141.0   \n",
       "1       94.5      170.2      63.8       53.5      2024.0        97.0   \n",
       "\n",
       "   boreratio  stroke  compressionratio  horsepower  ...  enginetype_rotor  \\\n",
       "0       3.31    3.15               9.5       114.0  ...                 0   \n",
       "1       3.15    3.29               9.4        69.0  ...                 0   \n",
       "\n",
       "   carbody_convertible  carbody_hardtop  carbody_hatchback  carbody_sedan  \\\n",
       "0                    0                0                  0              1   \n",
       "1                    0                0                  0              0   \n",
       "\n",
       "   carbody_wagon  doornumber_four  doornumber_two  aspiration_std  \\\n",
       "0              0                1               0               1   \n",
       "1              1                1               0               1   \n",
       "\n",
       "   aspiration_turbo  \n",
       "0                 0  \n",
       "1                 0  \n",
       "\n",
       "[2 rows x 49 columns]"
      ]
     },
     "execution_count": 11,
     "metadata": {},
     "output_type": "execute_result"
    }
   ],
   "source": [
    "train_x_d.head(2)\n"
   ]
  },
  {
   "cell_type": "markdown",
   "metadata": {},
   "source": [
    "### part e"
   ]
  },
  {
   "cell_type": "code",
   "execution_count": 12,
   "metadata": {},
   "outputs": [],
   "source": [
    "from sklearn.preprocessing import StandardScaler\n",
    "import numpy as np\n",
    "\n",
    "#first i fitted and after, i transform it because we will use this on one of the next part.\n",
    "scaler = StandardScaler()\n",
    "train_x_e = scaler.fit(train_x_d)\n",
    "train_x_e = scaler.transform(train_x_d)\n",
    "#here since my output is a numpy i converted it to a dataframe again\n",
    "train_x_e = pd.DataFrame(train_x_e)\n",
    "#giving the names of the columns back.\n",
    "train_x_e.columns = train_x_d_column\n",
    "\n",
    "\n",
    "\n"
   ]
  },
  {
   "cell_type": "code",
   "execution_count": 13,
   "metadata": {},
   "outputs": [
    {
     "data": {
      "text/html": [
       "<div>\n",
       "<style scoped>\n",
       "    .dataframe tbody tr th:only-of-type {\n",
       "        vertical-align: middle;\n",
       "    }\n",
       "\n",
       "    .dataframe tbody tr th {\n",
       "        vertical-align: top;\n",
       "    }\n",
       "\n",
       "    .dataframe thead th {\n",
       "        text-align: right;\n",
       "    }\n",
       "</style>\n",
       "<table border=\"1\" class=\"dataframe\">\n",
       "  <thead>\n",
       "    <tr style=\"text-align: right;\">\n",
       "      <th></th>\n",
       "      <th>wheelbase</th>\n",
       "      <th>carlength</th>\n",
       "      <th>carwidth</th>\n",
       "      <th>carheight</th>\n",
       "      <th>curbweight</th>\n",
       "      <th>enginesize</th>\n",
       "      <th>boreratio</th>\n",
       "      <th>stroke</th>\n",
       "      <th>compressionratio</th>\n",
       "      <th>horsepower</th>\n",
       "      <th>...</th>\n",
       "      <th>enginetype_rotor</th>\n",
       "      <th>carbody_convertible</th>\n",
       "      <th>carbody_hardtop</th>\n",
       "      <th>carbody_hatchback</th>\n",
       "      <th>carbody_sedan</th>\n",
       "      <th>carbody_wagon</th>\n",
       "      <th>doornumber_four</th>\n",
       "      <th>doornumber_two</th>\n",
       "      <th>aspiration_std</th>\n",
       "      <th>aspiration_turbo</th>\n",
       "    </tr>\n",
       "  </thead>\n",
       "  <tbody>\n",
       "    <tr>\n",
       "      <th>0</th>\n",
       "      <td>1.040486</td>\n",
       "      <td>1.218356</td>\n",
       "      <td>0.697865</td>\n",
       "      <td>1.103479</td>\n",
       "      <td>-0.217359</td>\n",
       "      <td>0.427546</td>\n",
       "      <td>-0.000506</td>\n",
       "      <td>-0.298040</td>\n",
       "      <td>-0.115772</td>\n",
       "      <td>0.312992</td>\n",
       "      <td>...</td>\n",
       "      <td>-0.114332</td>\n",
       "      <td>-0.162758</td>\n",
       "      <td>-0.140488</td>\n",
       "      <td>-0.752101</td>\n",
       "      <td>1.006473</td>\n",
       "      <td>-0.327327</td>\n",
       "      <td>0.895726</td>\n",
       "      <td>-0.895726</td>\n",
       "      <td>0.530087</td>\n",
       "      <td>-0.530087</td>\n",
       "    </tr>\n",
       "    <tr>\n",
       "      <th>1</th>\n",
       "      <td>-0.729389</td>\n",
       "      <td>-0.266100</td>\n",
       "      <td>-1.003614</td>\n",
       "      <td>-0.089818</td>\n",
       "      <td>-0.968641</td>\n",
       "      <td>-0.679464</td>\n",
       "      <td>-0.628165</td>\n",
       "      <td>0.134277</td>\n",
       "      <td>-0.142667</td>\n",
       "      <td>-0.909358</td>\n",
       "      <td>...</td>\n",
       "      <td>-0.114332</td>\n",
       "      <td>-0.162758</td>\n",
       "      <td>-0.140488</td>\n",
       "      <td>-0.752101</td>\n",
       "      <td>-0.993569</td>\n",
       "      <td>3.055050</td>\n",
       "      <td>0.895726</td>\n",
       "      <td>-0.895726</td>\n",
       "      <td>0.530087</td>\n",
       "      <td>-0.530087</td>\n",
       "    </tr>\n",
       "  </tbody>\n",
       "</table>\n",
       "<p>2 rows × 49 columns</p>\n",
       "</div>"
      ],
      "text/plain": [
       "   wheelbase  carlength  carwidth  carheight  curbweight  enginesize  \\\n",
       "0   1.040486   1.218356  0.697865   1.103479   -0.217359    0.427546   \n",
       "1  -0.729389  -0.266100 -1.003614  -0.089818   -0.968641   -0.679464   \n",
       "\n",
       "   boreratio    stroke  compressionratio  horsepower  ...  enginetype_rotor  \\\n",
       "0  -0.000506 -0.298040         -0.115772    0.312992  ...         -0.114332   \n",
       "1  -0.628165  0.134277         -0.142667   -0.909358  ...         -0.114332   \n",
       "\n",
       "   carbody_convertible  carbody_hardtop  carbody_hatchback  carbody_sedan  \\\n",
       "0            -0.162758        -0.140488          -0.752101       1.006473   \n",
       "1            -0.162758        -0.140488          -0.752101      -0.993569   \n",
       "\n",
       "   carbody_wagon  doornumber_four  doornumber_two  aspiration_std  \\\n",
       "0      -0.327327         0.895726       -0.895726        0.530087   \n",
       "1       3.055050         0.895726       -0.895726        0.530087   \n",
       "\n",
       "   aspiration_turbo  \n",
       "0         -0.530087  \n",
       "1         -0.530087  \n",
       "\n",
       "[2 rows x 49 columns]"
      ]
     },
     "execution_count": 13,
     "metadata": {},
     "output_type": "execute_result"
    }
   ],
   "source": [
    "train_x_e.head(2)"
   ]
  },
  {
   "cell_type": "markdown",
   "metadata": {},
   "source": [
    "## Data Exploration"
   ]
  },
  {
   "cell_type": "markdown",
   "metadata": {},
   "source": [
    "### part f in here i used the code from the book to plot to all the features in my data."
   ]
  },
  {
   "cell_type": "code",
   "execution_count": 14,
   "metadata": {},
   "outputs": [
    {
     "data": {
      "text/plain": [
       "array([[<matplotlib.axes._subplots.AxesSubplot object at 0x00000262A18DCE10>,\n",
       "        <matplotlib.axes._subplots.AxesSubplot object at 0x00000262A193A390>,\n",
       "        <matplotlib.axes._subplots.AxesSubplot object at 0x00000262A196A940>,\n",
       "        <matplotlib.axes._subplots.AxesSubplot object at 0x00000262A1999EF0>,\n",
       "        <matplotlib.axes._subplots.AxesSubplot object at 0x00000262A19D34E0>,\n",
       "        <matplotlib.axes._subplots.AxesSubplot object at 0x00000262A1A00A90>,\n",
       "        <matplotlib.axes._subplots.AxesSubplot object at 0x00000262A1A3D080>],\n",
       "       [<matplotlib.axes._subplots.AxesSubplot object at 0x00000262A1A6D668>,\n",
       "        <matplotlib.axes._subplots.AxesSubplot object at 0x00000262A1A6D6A0>,\n",
       "        <matplotlib.axes._subplots.AxesSubplot object at 0x00000262A1ADC1D0>,\n",
       "        <matplotlib.axes._subplots.AxesSubplot object at 0x00000262A1B0D780>,\n",
       "        <matplotlib.axes._subplots.AxesSubplot object at 0x00000262A1B3ED30>,\n",
       "        <matplotlib.axes._subplots.AxesSubplot object at 0x00000262A1B7B320>,\n",
       "        <matplotlib.axes._subplots.AxesSubplot object at 0x00000262A1BAB8D0>],\n",
       "       [<matplotlib.axes._subplots.AxesSubplot object at 0x00000262A1BDFE80>,\n",
       "        <matplotlib.axes._subplots.AxesSubplot object at 0x00000262A1C1C470>,\n",
       "        <matplotlib.axes._subplots.AxesSubplot object at 0x00000262A1C4AA20>,\n",
       "        <matplotlib.axes._subplots.AxesSubplot object at 0x00000262A1C7EFD0>,\n",
       "        <matplotlib.axes._subplots.AxesSubplot object at 0x00000262A1CB95C0>,\n",
       "        <matplotlib.axes._subplots.AxesSubplot object at 0x00000262A1CE9B70>,\n",
       "        <matplotlib.axes._subplots.AxesSubplot object at 0x00000262A1D29160>],\n",
       "       [<matplotlib.axes._subplots.AxesSubplot object at 0x00000262A1D58710>,\n",
       "        <matplotlib.axes._subplots.AxesSubplot object at 0x00000262A1D89CC0>,\n",
       "        <matplotlib.axes._subplots.AxesSubplot object at 0x00000262A1DC72B0>,\n",
       "        <matplotlib.axes._subplots.AxesSubplot object at 0x00000262A1DF8860>,\n",
       "        <matplotlib.axes._subplots.AxesSubplot object at 0x00000262A1E28E10>,\n",
       "        <matplotlib.axes._subplots.AxesSubplot object at 0x00000262A1E66400>,\n",
       "        <matplotlib.axes._subplots.AxesSubplot object at 0x00000262A1E979B0>],\n",
       "       [<matplotlib.axes._subplots.AxesSubplot object at 0x00000262A1ECAF60>,\n",
       "        <matplotlib.axes._subplots.AxesSubplot object at 0x00000262A1F07550>,\n",
       "        <matplotlib.axes._subplots.AxesSubplot object at 0x00000262A1F38B00>,\n",
       "        <matplotlib.axes._subplots.AxesSubplot object at 0x00000262A1F760F0>,\n",
       "        <matplotlib.axes._subplots.AxesSubplot object at 0x00000262A1FA46A0>,\n",
       "        <matplotlib.axes._subplots.AxesSubplot object at 0x00000262A1FD6C50>,\n",
       "        <matplotlib.axes._subplots.AxesSubplot object at 0x00000262A2015240>],\n",
       "       [<matplotlib.axes._subplots.AxesSubplot object at 0x00000262A20447F0>,\n",
       "        <matplotlib.axes._subplots.AxesSubplot object at 0x00000262A2076DA0>,\n",
       "        <matplotlib.axes._subplots.AxesSubplot object at 0x00000262A20B3390>,\n",
       "        <matplotlib.axes._subplots.AxesSubplot object at 0x00000262A20E2940>,\n",
       "        <matplotlib.axes._subplots.AxesSubplot object at 0x00000262A2113EF0>,\n",
       "        <matplotlib.axes._subplots.AxesSubplot object at 0x00000262A21504E0>,\n",
       "        <matplotlib.axes._subplots.AxesSubplot object at 0x00000262A2184A90>],\n",
       "       [<matplotlib.axes._subplots.AxesSubplot object at 0x00000262A21BF080>,\n",
       "        <matplotlib.axes._subplots.AxesSubplot object at 0x00000262A21F1630>,\n",
       "        <matplotlib.axes._subplots.AxesSubplot object at 0x00000262A2222BE0>,\n",
       "        <matplotlib.axes._subplots.AxesSubplot object at 0x00000262A22601D0>,\n",
       "        <matplotlib.axes._subplots.AxesSubplot object at 0x00000262A228F780>,\n",
       "        <matplotlib.axes._subplots.AxesSubplot object at 0x00000262A22C3D30>,\n",
       "        <matplotlib.axes._subplots.AxesSubplot object at 0x00000262A2300320>]],\n",
       "      dtype=object)"
      ]
     },
     "execution_count": 14,
     "metadata": {},
     "output_type": "execute_result"
    },
    {
     "data": {
      "image/png": "[encoded data removed]",
      "text/plain": [
       "<Figure size 1584x1080 with 49 Axes>"
      ]
     },
     "metadata": {
      "needs_background": "light"
     },
     "output_type": "display_data"
    }
   ],
   "source": [
    "%matplotlib inline\n",
    "import matplotlib.pyplot as plt\n",
    "train_x_e.hist(bins=50, figsize=(22,15), alpha = 1)\n",
    "#when i look at the data, there might be extreme point on curbeweight, stroke, horsepower, carwidth"
   ]
  },
  {
   "cell_type": "markdown",
   "metadata": {},
   "source": [
    "### part g\n"
   ]
  },
  {
   "cell_type": "code",
   "execution_count": 15,
   "metadata": {},
   "outputs": [
    {
     "name": "stdout",
     "output_type": "stream",
     "text": [
      "price                    1.000000e+00\n",
      "citympg                  1.755342e-01\n",
      "highwaympg               1.729083e-01\n",
      "enginesize               1.659466e-01\n",
      "cylindernumber_eight     1.627708e-01\n",
      "carbody_hardtop          1.499560e-01\n",
      "carbody_convertible      1.416050e-01\n",
      "enginetype_ohcv          1.407727e-01\n",
      "compressionratio         1.314089e-01\n",
      "fuelsystem_mfi           1.238090e-01\n",
      "curbweight               1.204517e-01\n",
      "fuelsystem_spdi          1.116357e-01\n",
      "horsepower               1.098006e-01\n",
      "boreratio                9.959652e-02\n",
      "fueltype_gas             9.818442e-02\n",
      "fueltype_diesel          9.818442e-02\n",
      "fuelsystem_idi           9.818442e-02\n",
      "carwidth                 9.192073e-02\n",
      "carbody_sedan            8.950100e-02\n",
      "stroke                   8.718831e-02\n",
      "carbody_wagon            8.533443e-02\n",
      "enginetype_dohc          8.129676e-02\n",
      "carlength                7.657606e-02\n",
      "cylindernumber_four      5.652825e-02\n",
      "fuelsystem_2bbl          5.292872e-02\n",
      "carbody_hatchback        5.149880e-02\n",
      "carheight                4.914586e-02\n",
      "drivewheel_fwd           4.834743e-02\n",
      "fuelsystem_4bbl          4.797544e-02\n",
      "cylindernumber_two       4.797544e-02\n",
      "enginetype_rotor         4.797544e-02\n",
      "doornumber_two           4.277714e-02\n",
      "doornumber_four          4.277714e-02\n",
      "drivewheel_rwd           4.087567e-02\n",
      "aspiration_turbo         3.706719e-02\n",
      "aspiration_std           3.706719e-02\n",
      "fuelsystem_1bbl          3.464060e-02\n",
      "wheelbase                3.325515e-02\n",
      "enginetype_l             2.816369e-02\n",
      "fuelsystem_mpfi          2.286658e-02\n",
      "drivewheel_4wd           2.084809e-02\n",
      "cylindernumber_twelve    1.854653e-02\n",
      "cylindernumber_six       1.190073e-02\n",
      "enginelocation_front     9.214782e-03\n",
      "enginelocation_rear      9.214782e-03\n",
      "enginetype_ohcf          7.154764e-03\n",
      "enginetype_ohc           4.150327e-03\n",
      "cylindernumber_five      3.409157e-03\n",
      "peakrpm                  7.262303e-04\n",
      "cylindernumber_three     1.425531e-18\n",
      "Name: price, dtype: float64\n"
     ]
    }
   ],
   "source": [
    "#i concatted the my features and my target to be able to use corr()\n",
    "train_x_e_and_train_y = pd.concat([train_x_e,train_y], axis=1)\n",
    "#i assigned their correlation to corr_matrix\n",
    "corr_matrix = train_x_e_and_train_y.corr().abs()\n",
    "#by using price as the target i listed the correlations\n",
    "print(corr_matrix[\"price\"].sort_values(ascending=False))\n",
    "\n",
    "#I looked at the continues variables we had first(before dummies, and picked the highest correlating ones.)\n",
    "top_5_corr = [\"citympg\", \"highwaympg\", \"enginesize\", \"compressionratio\",\"curbweight\"]\n",
    "\n"
   ]
  },
  {
   "cell_type": "code",
   "execution_count": 16,
   "metadata": {},
   "outputs": [
    {
     "name": "stdout",
     "output_type": "stream",
     "text": [
      "['citympg', 'highwaympg', 'enginesize', 'compressionratio', 'curbweight']\n"
     ]
    }
   ],
   "source": [
    "print(top_5_corr)"
   ]
  },
  {
   "cell_type": "markdown",
   "metadata": {},
   "source": [
    "### part h"
   ]
  },
  {
   "cell_type": "code",
   "execution_count": 17,
   "metadata": {},
   "outputs": [
    {
     "data": {
      "text/plain": [
       "array([[<matplotlib.axes._subplots.AxesSubplot object at 0x00000262A449C940>,\n",
       "        <matplotlib.axes._subplots.AxesSubplot object at 0x00000262A3A464A8>,\n",
       "        <matplotlib.axes._subplots.AxesSubplot object at 0x00000262A45C5198>,\n",
       "        <matplotlib.axes._subplots.AxesSubplot object at 0x00000262A32A4400>,\n",
       "        <matplotlib.axes._subplots.AxesSubplot object at 0x00000262A5B3D7F0>],\n",
       "       [<matplotlib.axes._subplots.AxesSubplot object at 0x00000262A5B7AAC8>,\n",
       "        <matplotlib.axes._subplots.AxesSubplot object at 0x00000262A5B990B8>,\n",
       "        <matplotlib.axes._subplots.AxesSubplot object at 0x00000262A4A01630>,\n",
       "        <matplotlib.axes._subplots.AxesSubplot object at 0x00000262A4A01668>,\n",
       "        <matplotlib.axes._subplots.AxesSubplot object at 0x00000262A5C02198>],\n",
       "       [<matplotlib.axes._subplots.AxesSubplot object at 0x00000262A3C95748>,\n",
       "        <matplotlib.axes._subplots.AxesSubplot object at 0x00000262A3CACCF8>,\n",
       "        <matplotlib.axes._subplots.AxesSubplot object at 0x00000262A3CD22E8>,\n",
       "        <matplotlib.axes._subplots.AxesSubplot object at 0x00000262A3CFF898>,\n",
       "        <matplotlib.axes._subplots.AxesSubplot object at 0x00000262A3D31E48>],\n",
       "       [<matplotlib.axes._subplots.AxesSubplot object at 0x00000262A3D6F438>,\n",
       "        <matplotlib.axes._subplots.AxesSubplot object at 0x00000262A3DA19E8>,\n",
       "        <matplotlib.axes._subplots.AxesSubplot object at 0x00000262A3DD3F98>,\n",
       "        <matplotlib.axes._subplots.AxesSubplot object at 0x00000262A3E10588>,\n",
       "        <matplotlib.axes._subplots.AxesSubplot object at 0x00000262A3E41B38>],\n",
       "       [<matplotlib.axes._subplots.AxesSubplot object at 0x00000262A3E82128>,\n",
       "        <matplotlib.axes._subplots.AxesSubplot object at 0x00000262A3EB16D8>,\n",
       "        <matplotlib.axes._subplots.AxesSubplot object at 0x00000262A3EE4C88>,\n",
       "        <matplotlib.axes._subplots.AxesSubplot object at 0x00000262A3F23278>,\n",
       "        <matplotlib.axes._subplots.AxesSubplot object at 0x00000262A3F50828>]],\n",
       "      dtype=object)"
      ]
     },
     "execution_count": 17,
     "metadata": {},
     "output_type": "execute_result"
    },
    {
     "data": {
      "image/png": "[encoded data removed]",
      "text/plain": [
       "<Figure size 1296x864 with 25 Axes>"
      ]
     },
     "metadata": {
      "needs_background": "light"
     },
     "output_type": "display_data"
    }
   ],
   "source": [
    "from pandas.plotting import scatter_matrix\n",
    "scatter_matrix(corr_matrix[top_5_corr], figsize=(18, 12), alpha = 1)"
   ]
  },
  {
   "cell_type": "markdown",
   "metadata": {},
   "source": [
    "## LINEAR REGRESSION TO PREDICT CAR PRICES"
   ]
  },
  {
   "cell_type": "markdown",
   "metadata": {},
   "source": [
    "### part i"
   ]
  },
  {
   "cell_type": "code",
   "execution_count": 18,
   "metadata": {
    "scrolled": true
   },
   "outputs": [
    {
     "name": "stdout",
     "output_type": "stream",
     "text": [
      "Printing mse:  4293452.590313227\n"
     ]
    }
   ],
   "source": [
    "#importing from sklearn\n",
    "from sklearn.linear_model import LinearRegression\n",
    "from sklearn.metrics import mean_squared_error\n",
    "lr_model = LinearRegression()\n",
    "#fitted my model by using train_x_e and train_y\n",
    "lr_model.fit(train_x_e, train_y)\n",
    "model_predictions = lr_model.predict(train_x_e)\n",
    "#this part getting the mean squared error.\n",
    "lin_mse = mean_squared_error(train_y, model_predictions)\n",
    "print(\"Printing mse: \", lin_mse)\n",
    "\n"
   ]
  },
  {
   "cell_type": "markdown",
   "metadata": {},
   "source": [
    "### part j"
   ]
  },
  {
   "cell_type": "code",
   "execution_count": 19,
   "metadata": {},
   "outputs": [
    {
     "name": "stdout",
     "output_type": "stream",
     "text": [
      "[10057504.28226571  6941861.46536291  8010686.21848619 11491802.34766714\n",
      "  6098813.9646496 ]\n"
     ]
    }
   ],
   "source": [
    "#import cross validation\n",
    "from sklearn.model_selection import cross_val_score\n",
    "#using my linear model and train_x_e and train_y\n",
    "scores = cross_val_score(lr_model, train_x_e, train_y, scoring=\"neg_mean_squared_error\", cv=5)\n",
    "#i set the scoring as neg_mean_squared and this part i take the abs. of it.\n",
    "train_mse_score = abs((scores))\n",
    "\n",
    "print(train_mse_score)"
   ]
  },
  {
   "cell_type": "code",
   "execution_count": 20,
   "metadata": {
    "scrolled": true
   },
   "outputs": [
    {
     "name": "stdout",
     "output_type": "stream",
     "text": [
      "8520133.655686306\n"
     ]
    }
   ],
   "source": [
    "average_mse = np.absolute(train_mse_score.mean())\n",
    "print(average_mse)"
   ]
  },
  {
   "cell_type": "markdown",
   "metadata": {},
   "source": [
    "### part k"
   ]
  },
  {
   "cell_type": "code",
   "execution_count": 21,
   "metadata": {
    "scrolled": true
   },
   "outputs": [],
   "source": [
    "test_x = pd.read_csv(\"test.csv\").drop(\"price\", axis = 1)\n",
    "test_y = pd.read_csv(\"test.csv\", usecols = [\"price\"])\n",
    "\n",
    "#getting the null indexes in the test_y\n",
    "test_y_null_indexes = test_y[test_y['price'].isnull()].index.tolist()\n",
    "#dropping them\n",
    "test_y = test_y.dropna()\n",
    "#dropping the same indexes from the test_x \n",
    "test_x = test_x.drop(test_y_null_indexes)\n",
    "###index = test_y_null_indexes\n",
    "\n",
    "#i used the same values from the the train medians and filled the NaN value in test_x\n",
    "test_x = test_x.fillna({\n",
    "    'wheelbase': median_wheelbase_a,\n",
    "    'carlength': median_carlength_a,\n",
    "    'carheight': median_carheight_a,\n",
    "    'carwidth': median_carwidth_a,\n",
    "    'curbweight': median_curbweight_a,\n",
    "    'enginesize': median_enginesize_a,\n",
    "    'boreratio': median_boreratio_a,\n",
    "    'stroke': median_stroke_a,\n",
    "    'compressionratio': median_compressionratio_a,\n",
    "    'horsepower': median_horsepower_a,\n",
    "    'carwidth': median_carwidth_a,\n",
    "    'peakrpm': median_peakrpm_a,\n",
    "    'citympg': median_citympg_a,\n",
    "    'highwaympg': median_highwaympg_a})\n",
    "\n",
    "#get the columns of text_x\n",
    "col_test_x = test_x.columns\n",
    "#get the numerical col data of test_x\n",
    "num_test_x = test_x._get_numeric_data().columns\n",
    "\n",
    "#get the categorical_columns in test\n",
    "categorical_columns_test  =  [i for i in set(col_test_x) - set(num_test_x)]\n",
    "\n",
    "\n",
    "#onehot with dummies for categorical_columns_test\n",
    "for column in categorical_columns_test:\n",
    "    test_x = pd.get_dummies(test_x, columns= [column], prefix = [column])\n",
    "\n",
    "    \n",
    "#getting the test_x columns. to use it after scale to give the names back to the features. \n",
    "test_x_column = []\n",
    "for i in test_x:\n",
    "    test_x_column.append(i)\n",
    "\n",
    "\n",
    "#in this part we are only going to do transform we don't do scale \n",
    "#we want to keep the fit as it is.\n",
    "temp = scaler.transform(test_x)\n",
    "test_x = pd.DataFrame(temp)\n",
    "test_x.columns = test_x_column\n"
   ]
  },
  {
   "cell_type": "code",
   "execution_count": 22,
   "metadata": {},
   "outputs": [
    {
     "data": {
      "text/html": [
       "<div>\n",
       "<style scoped>\n",
       "    .dataframe tbody tr th:only-of-type {\n",
       "        vertical-align: middle;\n",
       "    }\n",
       "\n",
       "    .dataframe tbody tr th {\n",
       "        vertical-align: top;\n",
       "    }\n",
       "\n",
       "    .dataframe thead th {\n",
       "        text-align: right;\n",
       "    }\n",
       "</style>\n",
       "<table border=\"1\" class=\"dataframe\">\n",
       "  <thead>\n",
       "    <tr style=\"text-align: right;\">\n",
       "      <th></th>\n",
       "      <th>wheelbase</th>\n",
       "      <th>carlength</th>\n",
       "      <th>carwidth</th>\n",
       "      <th>carheight</th>\n",
       "      <th>curbweight</th>\n",
       "      <th>enginesize</th>\n",
       "      <th>boreratio</th>\n",
       "      <th>stroke</th>\n",
       "      <th>compressionratio</th>\n",
       "      <th>horsepower</th>\n",
       "      <th>...</th>\n",
       "      <th>enginetype_rotor</th>\n",
       "      <th>carbody_convertible</th>\n",
       "      <th>carbody_hardtop</th>\n",
       "      <th>carbody_hatchback</th>\n",
       "      <th>carbody_sedan</th>\n",
       "      <th>carbody_wagon</th>\n",
       "      <th>doornumber_four</th>\n",
       "      <th>doornumber_two</th>\n",
       "      <th>aspiration_std</th>\n",
       "      <th>aspiration_turbo</th>\n",
       "    </tr>\n",
       "  </thead>\n",
       "  <tbody>\n",
       "    <tr>\n",
       "      <th>0</th>\n",
       "      <td>1.311385</td>\n",
       "      <td>1.529613</td>\n",
       "      <td>2.799691</td>\n",
       "      <td>0.882498</td>\n",
       "      <td>0.874873</td>\n",
       "      <td>0.301750</td>\n",
       "      <td>-0.471250</td>\n",
       "      <td>0.473955</td>\n",
       "      <td>-0.384726</td>\n",
       "      <td>0.204338</td>\n",
       "      <td>...</td>\n",
       "      <td>-0.114332</td>\n",
       "      <td>-0.162758</td>\n",
       "      <td>-0.140488</td>\n",
       "      <td>-0.752101</td>\n",
       "      <td>-0.993569</td>\n",
       "      <td>3.055050</td>\n",
       "      <td>0.895726</td>\n",
       "      <td>-0.895726</td>\n",
       "      <td>0.530087</td>\n",
       "      <td>-0.530087</td>\n",
       "    </tr>\n",
       "    <tr>\n",
       "      <th>1</th>\n",
       "      <td>-0.368190</td>\n",
       "      <td>0.148909</td>\n",
       "      <td>-1.654180</td>\n",
       "      <td>0.175359</td>\n",
       "      <td>-0.278810</td>\n",
       "      <td>-0.352393</td>\n",
       "      <td>-0.628165</td>\n",
       "      <td>1.029791</td>\n",
       "      <td>-0.250249</td>\n",
       "      <td>-0.447582</td>\n",
       "      <td>...</td>\n",
       "      <td>-0.114332</td>\n",
       "      <td>-0.162758</td>\n",
       "      <td>-0.140488</td>\n",
       "      <td>-0.752101</td>\n",
       "      <td>1.006473</td>\n",
       "      <td>-0.327327</td>\n",
       "      <td>0.895726</td>\n",
       "      <td>-0.895726</td>\n",
       "      <td>0.530087</td>\n",
       "      <td>-0.530087</td>\n",
       "    </tr>\n",
       "  </tbody>\n",
       "</table>\n",
       "<p>2 rows × 49 columns</p>\n",
       "</div>"
      ],
      "text/plain": [
       "   wheelbase  carlength  carwidth  carheight  curbweight  enginesize  \\\n",
       "0   1.311385   1.529613  2.799691   0.882498    0.874873    0.301750   \n",
       "1  -0.368190   0.148909 -1.654180   0.175359   -0.278810   -0.352393   \n",
       "\n",
       "   boreratio    stroke  compressionratio  horsepower  ...  enginetype_rotor  \\\n",
       "0  -0.471250  0.473955         -0.384726    0.204338  ...         -0.114332   \n",
       "1  -0.628165  1.029791         -0.250249   -0.447582  ...         -0.114332   \n",
       "\n",
       "   carbody_convertible  carbody_hardtop  carbody_hatchback  carbody_sedan  \\\n",
       "0            -0.162758        -0.140488          -0.752101      -0.993569   \n",
       "1            -0.162758        -0.140488          -0.752101       1.006473   \n",
       "\n",
       "   carbody_wagon  doornumber_four  doornumber_two  aspiration_std  \\\n",
       "0       3.055050         0.895726       -0.895726        0.530087   \n",
       "1      -0.327327         0.895726       -0.895726        0.530087   \n",
       "\n",
       "   aspiration_turbo  \n",
       "0         -0.530087  \n",
       "1         -0.530087  \n",
       "\n",
       "[2 rows x 49 columns]"
      ]
     },
     "execution_count": 22,
     "metadata": {},
     "output_type": "execute_result"
    }
   ],
   "source": [
    "test_x.head(2)\n"
   ]
  },
  {
   "cell_type": "code",
   "execution_count": 23,
   "metadata": {},
   "outputs": [
    {
     "data": {
      "text/html": [
       "<div>\n",
       "<style scoped>\n",
       "    .dataframe tbody tr th:only-of-type {\n",
       "        vertical-align: middle;\n",
       "    }\n",
       "\n",
       "    .dataframe tbody tr th {\n",
       "        vertical-align: top;\n",
       "    }\n",
       "\n",
       "    .dataframe thead th {\n",
       "        text-align: right;\n",
       "    }\n",
       "</style>\n",
       "<table border=\"1\" class=\"dataframe\">\n",
       "  <thead>\n",
       "    <tr style=\"text-align: right;\">\n",
       "      <th></th>\n",
       "      <th>price</th>\n",
       "    </tr>\n",
       "  </thead>\n",
       "  <tbody>\n",
       "    <tr>\n",
       "      <th>0</th>\n",
       "      <td>18920.0</td>\n",
       "    </tr>\n",
       "    <tr>\n",
       "      <th>1</th>\n",
       "      <td>10295.0</td>\n",
       "    </tr>\n",
       "  </tbody>\n",
       "</table>\n",
       "</div>"
      ],
      "text/plain": [
       "     price\n",
       "0  18920.0\n",
       "1  10295.0"
      ]
     },
     "execution_count": 23,
     "metadata": {},
     "output_type": "execute_result"
    }
   ],
   "source": [
    "test_y.head(2)"
   ]
  },
  {
   "cell_type": "markdown",
   "metadata": {},
   "source": [
    "### part l"
   ]
  },
  {
   "cell_type": "code",
   "execution_count": 24,
   "metadata": {},
   "outputs": [
    {
     "name": "stdout",
     "output_type": "stream",
     "text": [
      "0.8315430095519597\n",
      "[[ -182.50390789    17.77791293   482.81638969   104.58617988\n",
      "   1594.18156825  4256.71313249   -38.99302906 -1321.89317472\n",
      "    384.75573887  1307.10308185   517.30038623  -656.6777968\n",
      "    909.82948041    63.44882098   -63.44882098  1597.61307444\n",
      "   -137.55006193  -995.94531305   567.19331492   431.12406866\n",
      "   -315.88166818   176.79676558  -100.41702336   -55.47707253\n",
      "    101.51605056   130.33179437   -60.94295514   176.79676558\n",
      "     63.44882098  -119.02206221   183.04212938  -516.78989561\n",
      "   -267.79355313   267.79355313  -371.41920837  -187.39716713\n",
      "   1176.64256697   -84.87719409 -1725.97024765   176.79676558\n",
      "    309.15477368    41.94235625  -351.57058775   212.54573996\n",
      "     26.44248644   -79.19764443    79.19764443  -345.01712899\n",
      "    345.01712899]]\n"
     ]
    }
   ],
   "source": [
    "#predicting by using linear model, \"test_x\" as a parameter\n",
    "test_model_predictions = lr_model.predict(test_x)\n",
    "#getting the mse\n",
    "test_mse_score = mean_squared_error(test_y, test_model_predictions)\n",
    "print(lr_model.score(test_x, test_y))\n",
    "predicted_values = test_model_predictions\n",
    "#model coef.\n",
    "print(lr_model.coef_)"
   ]
  },
  {
   "cell_type": "code",
   "execution_count": 25,
   "metadata": {},
   "outputs": [
    {
     "name": "stdout",
     "output_type": "stream",
     "text": [
      "[[25820.17373261]\n",
      " [15266.75224294]\n",
      " [ 7236.56883959]]\n"
     ]
    }
   ],
   "source": [
    "print(predicted_values[10:13])"
   ]
  },
  {
   "cell_type": "code",
   "execution_count": 26,
   "metadata": {
    "scrolled": false
   },
   "outputs": [
    {
     "name": "stdout",
     "output_type": "stream",
     "text": [
      "14515571.216237938\n"
     ]
    }
   ],
   "source": [
    "print(test_mse_score)"
   ]
  },
  {
   "cell_type": "markdown",
   "metadata": {},
   "source": [
    "### part m"
   ]
  },
  {
   "cell_type": "code",
   "execution_count": 27,
   "metadata": {},
   "outputs": [],
   "source": [
    "#getting polys from sklearn\n",
    "from sklearn.preprocessing import PolynomialFeatures\n",
    "#i set the degree as 2\n",
    "poly_features = PolynomialFeatures(degree=2, include_bias=False)\n",
    "#fit and transformed in this part.\n",
    "train_x_m_poly_model = poly_features.fit_transform(train_x_e)\n",
    "#i converted it to dataframe again.\n",
    "train_x_m = pd.DataFrame(train_x_m_poly_model)\n"
   ]
  },
  {
   "cell_type": "code",
   "execution_count": 28,
   "metadata": {},
   "outputs": [
    {
     "data": {
      "text/html": [
       "<div>\n",
       "<style scoped>\n",
       "    .dataframe tbody tr th:only-of-type {\n",
       "        vertical-align: middle;\n",
       "    }\n",
       "\n",
       "    .dataframe tbody tr th {\n",
       "        vertical-align: top;\n",
       "    }\n",
       "\n",
       "    .dataframe thead th {\n",
       "        text-align: right;\n",
       "    }\n",
       "</style>\n",
       "<table border=\"1\" class=\"dataframe\">\n",
       "  <thead>\n",
       "    <tr style=\"text-align: right;\">\n",
       "      <th></th>\n",
       "      <th>0</th>\n",
       "      <th>1</th>\n",
       "      <th>2</th>\n",
       "      <th>3</th>\n",
       "      <th>4</th>\n",
       "      <th>5</th>\n",
       "      <th>6</th>\n",
       "      <th>7</th>\n",
       "      <th>8</th>\n",
       "      <th>9</th>\n",
       "      <th>...</th>\n",
       "      <th>1264</th>\n",
       "      <th>1265</th>\n",
       "      <th>1266</th>\n",
       "      <th>1267</th>\n",
       "      <th>1268</th>\n",
       "      <th>1269</th>\n",
       "      <th>1270</th>\n",
       "      <th>1271</th>\n",
       "      <th>1272</th>\n",
       "      <th>1273</th>\n",
       "    </tr>\n",
       "  </thead>\n",
       "  <tbody>\n",
       "    <tr>\n",
       "      <th>0</th>\n",
       "      <td>1.040486</td>\n",
       "      <td>1.218356</td>\n",
       "      <td>0.697865</td>\n",
       "      <td>1.103479</td>\n",
       "      <td>-0.217359</td>\n",
       "      <td>0.427546</td>\n",
       "      <td>-0.000506</td>\n",
       "      <td>-0.298040</td>\n",
       "      <td>-0.115772</td>\n",
       "      <td>0.312992</td>\n",
       "      <td>...</td>\n",
       "      <td>0.802326</td>\n",
       "      <td>-0.802326</td>\n",
       "      <td>0.474812</td>\n",
       "      <td>-0.474812</td>\n",
       "      <td>0.802326</td>\n",
       "      <td>-0.474812</td>\n",
       "      <td>0.474812</td>\n",
       "      <td>0.280992</td>\n",
       "      <td>-0.280992</td>\n",
       "      <td>0.280992</td>\n",
       "    </tr>\n",
       "    <tr>\n",
       "      <th>1</th>\n",
       "      <td>-0.729389</td>\n",
       "      <td>-0.266100</td>\n",
       "      <td>-1.003614</td>\n",
       "      <td>-0.089818</td>\n",
       "      <td>-0.968641</td>\n",
       "      <td>-0.679464</td>\n",
       "      <td>-0.628165</td>\n",
       "      <td>0.134277</td>\n",
       "      <td>-0.142667</td>\n",
       "      <td>-0.909358</td>\n",
       "      <td>...</td>\n",
       "      <td>0.802326</td>\n",
       "      <td>-0.802326</td>\n",
       "      <td>0.474812</td>\n",
       "      <td>-0.474812</td>\n",
       "      <td>0.802326</td>\n",
       "      <td>-0.474812</td>\n",
       "      <td>0.474812</td>\n",
       "      <td>0.280992</td>\n",
       "      <td>-0.280992</td>\n",
       "      <td>0.280992</td>\n",
       "    </tr>\n",
       "  </tbody>\n",
       "</table>\n",
       "<p>2 rows × 1274 columns</p>\n",
       "</div>"
      ],
      "text/plain": [
       "       0         1         2         3         4         5         6     \\\n",
       "0  1.040486  1.218356  0.697865  1.103479 -0.217359  0.427546 -0.000506   \n",
       "1 -0.729389 -0.266100 -1.003614 -0.089818 -0.968641 -0.679464 -0.628165   \n",
       "\n",
       "       7         8         9     ...      1264      1265      1266      1267  \\\n",
       "0 -0.298040 -0.115772  0.312992  ...  0.802326 -0.802326  0.474812 -0.474812   \n",
       "1  0.134277 -0.142667 -0.909358  ...  0.802326 -0.802326  0.474812 -0.474812   \n",
       "\n",
       "       1268      1269      1270      1271      1272      1273  \n",
       "0  0.802326 -0.474812  0.474812  0.280992 -0.280992  0.280992  \n",
       "1  0.802326 -0.474812  0.474812  0.280992 -0.280992  0.280992  \n",
       "\n",
       "[2 rows x 1274 columns]"
      ]
     },
     "execution_count": 28,
     "metadata": {},
     "output_type": "execute_result"
    }
   ],
   "source": [
    "\n",
    "train_x_m.head(2)"
   ]
  },
  {
   "cell_type": "code",
   "execution_count": 29,
   "metadata": {},
   "outputs": [],
   "source": [
    "#i created a new lr model.\n",
    "lr_model_poly = lr_model.fit(train_x_m, train_y)"
   ]
  },
  {
   "cell_type": "code",
   "execution_count": 30,
   "metadata": {},
   "outputs": [
    {
     "name": "stdout",
     "output_type": "stream",
     "text": [
      "1.259901337756996e+30\n"
     ]
    }
   ],
   "source": [
    "#this part i passed the lr model poly, train_x_m and train_y\n",
    "scores_poly = cross_val_score(lr_model_poly, train_x_m, train_y, scoring=\"neg_mean_squared_error\", cv=5)\n",
    "poly_reg_mse_scores = abs((scores_poly))\n",
    "#getting the mean of folds.\n",
    "average_mse = poly_reg_mse_scores.mean()\n",
    "print(average_mse)"
   ]
  },
  {
   "cell_type": "markdown",
   "metadata": {},
   "source": [
    "### part n"
   ]
  },
  {
   "cell_type": "code",
   "execution_count": 31,
   "metadata": {
    "scrolled": true
   },
   "outputs": [
    {
     "name": "stderr",
     "output_type": "stream",
     "text": [
      "C:\\Users\\Fatih Enes Usta\\Anaconda3\\lib\\site-packages\\sklearn\\linear_model\\coordinate_descent.py:475: ConvergenceWarning: Objective did not converge. You might want to increase the number of iterations. Duality gap: 13028966.545829877, tolerance: 920722.9017414534\n",
      "  positive)\n"
     ]
    },
    {
     "data": {
      "text/plain": [
       "array([15916.66190968,  7300.23158887,  6711.80352866, 15704.36920763,\n",
       "        6390.43037247,  7249.36589963, 45400.64738253,  8039.92949134,\n",
       "       36853.92859744, 12449.18257097,  6861.97550527, 22578.94820644,\n",
       "       16934.16780937, 13491.19455026, 11206.97193156, 12619.19620897,\n",
       "       21987.86979599, 16710.17885722, 10782.5470854 ,  6513.12096374,\n",
       "        8237.41898186, 12858.66151545, 16710.17885722,  7396.15283819,\n",
       "        6864.68775491,  5529.39478154, 16347.53925154,  9076.37383045,\n",
       "        8212.65805866,  6773.12044096,  8813.03543778, 11690.66683543,\n",
       "       16680.86095964, 17854.79478842,  5315.18628939,  7911.24673203,\n",
       "        8974.9851829 ,  5333.13005977, 24561.98613897,  6227.36561129,\n",
       "       12965.68647152, 18923.14373463, 23858.30720994,  8981.65468454,\n",
       "        9278.31333844,  6966.12120215, 32241.2794519 ,  5147.79056747,\n",
       "        6394.35016392,  9168.79841251, 18305.10646852,  7224.49271058,\n",
       "       11845.00366758, 11863.54278962,  9308.56267973, 15272.08385673,\n",
       "        7993.45838147, 30792.80208311,  6502.93107569, 18602.03908266,\n",
       "        6797.31360846,  7060.84577963,  8775.66962637,  6221.82508649,\n",
       "        7374.82906656, 16322.4466249 , 13515.49562664,  5904.16151978,\n",
       "        9871.56085657, 11709.52314894,  8738.25210732, 15060.74904192,\n",
       "        7586.70381882, 16487.73994466,  9632.97690908,  8322.29030313,\n",
       "        8570.54440971, 16480.39362198,  7322.6850118 , 34188.37267413,\n",
       "        6835.14466886, 10943.65237121,  9956.41634161,  9289.41517026,\n",
       "       10333.50246338,  8358.14233276,  8321.55263556,  8875.16448078,\n",
       "        6773.97961736, 11261.15231859, 12753.97872276, 15035.72331907,\n",
       "       22475.21640471,  6051.59877859,  7949.12585061,  6940.00756662,\n",
       "        9480.6217615 , 12290.04895183,  8011.43128977,  7538.17927118,\n",
       "        9948.17922641, 18234.55083989, 21100.44556249, 13855.5789926 ,\n",
       "       35054.88760301,  9963.27703443, 13284.92750854, 13872.48464801,\n",
       "       10960.39954502, 16230.11395929,  7348.73597823,  7151.73990653,\n",
       "       37030.95550312,  7649.72076377,  5770.7972603 , 19122.51598582,\n",
       "       17721.60080061,  7968.59455785,  8235.21299045, 15589.4809126 ,\n",
       "       10684.52354468, 17210.72873716,  9212.15968696, 41286.03931946,\n",
       "       11171.19223059, 10052.22357929,  8729.71352185, 13720.16684674,\n",
       "        8002.2433508 ,  7475.40262813, 13103.23466841, 18473.65734285,\n",
       "       11592.97258111, 36000.76837491, 18151.06520939, 14500.55346291,\n",
       "       10462.51245604, 16797.66308849,  6218.80274679,  7616.162928  ,\n",
       "        8114.20446253, 10190.1309894 ,  9276.98524533, 31616.6848152 ,\n",
       "       18152.89098611, 19690.27686049, 12990.00990337,  6053.3267343 ,\n",
       "       10367.06092369, 14613.16622883, 28240.61961766, 14525.68317929,\n",
       "        7560.47103915,  5107.06965427,  8777.5335304 ])"
      ]
     },
     "execution_count": 31,
     "metadata": {},
     "output_type": "execute_result"
    }
   ],
   "source": [
    "#getting the lasso from sk\n",
    "from sklearn.linear_model import Lasso\n",
    "#first setting the alphaw with the default parameter.\n",
    "lasso_reg = Lasso()\n",
    "#fitted my model\n",
    "lasso = lasso_reg.fit(train_x_m, train_y) \n",
    "#and predicted\n",
    "lasso_reg.predict(train_x_m)"
   ]
  },
  {
   "cell_type": "code",
   "execution_count": 32,
   "metadata": {
    "scrolled": true
   },
   "outputs": [
    {
     "name": "stderr",
     "output_type": "stream",
     "text": [
      "C:\\Users\\Fatih Enes Usta\\Anaconda3\\lib\\site-packages\\sklearn\\linear_model\\coordinate_descent.py:475: ConvergenceWarning: Objective did not converge. You might want to increase the number of iterations. Duality gap: 5572486.693176546, tolerance: 682422.0779853245\n",
      "  positive)\n",
      "C:\\Users\\Fatih Enes Usta\\Anaconda3\\lib\\site-packages\\sklearn\\linear_model\\coordinate_descent.py:475: ConvergenceWarning: Objective did not converge. You might want to increase the number of iterations. Duality gap: 10159733.74511217, tolerance: 754070.2752435483\n",
      "  positive)\n",
      "C:\\Users\\Fatih Enes Usta\\Anaconda3\\lib\\site-packages\\sklearn\\linear_model\\coordinate_descent.py:475: ConvergenceWarning: Objective did not converge. You might want to increase the number of iterations. Duality gap: 9713821.069773573, tolerance: 814699.3775705019\n",
      "  positive)\n",
      "C:\\Users\\Fatih Enes Usta\\Anaconda3\\lib\\site-packages\\sklearn\\linear_model\\coordinate_descent.py:475: ConvergenceWarning: Objective did not converge. You might want to increase the number of iterations. Duality gap: 10247968.029979827, tolerance: 671553.4068121022\n",
      "  positive)\n"
     ]
    },
    {
     "name": "stdout",
     "output_type": "stream",
     "text": [
      "41454817.62676425\n"
     ]
    },
    {
     "name": "stderr",
     "output_type": "stream",
     "text": [
      "C:\\Users\\Fatih Enes Usta\\Anaconda3\\lib\\site-packages\\sklearn\\linear_model\\coordinate_descent.py:475: ConvergenceWarning: Objective did not converge. You might want to increase the number of iterations. Duality gap: 6829114.776645947, tolerance: 757265.7578705021\n",
      "  positive)\n"
     ]
    }
   ],
   "source": [
    "#doing a cross validation by passing lasso, train_x_m, and train_y\n",
    "lasso_cross_scores = cross_val_score(lasso, train_x_m, train_y, scoring=\"neg_mean_squared_error\", cv=5)\n",
    "train_mse_score = abs((lasso_cross_scores))\n",
    "#getting the mean of folds.\n",
    "average_mse = train_mse_score.mean()\n",
    "print(average_mse)"
   ]
  },
  {
   "cell_type": "markdown",
   "metadata": {},
   "source": [
    "### part o"
   ]
  },
  {
   "cell_type": "code",
   "execution_count": 33,
   "metadata": {},
   "outputs": [
    {
     "name": "stderr",
     "output_type": "stream",
     "text": [
      "C:\\Users\\Fatih Enes Usta\\Anaconda3\\lib\\site-packages\\sklearn\\linear_model\\coordinate_descent.py:475: ConvergenceWarning: Objective did not converge. You might want to increase the number of iterations. Duality gap: 13028966.545829877, tolerance: 920722.9017414534\n",
      "  positive)\n",
      "C:\\Users\\Fatih Enes Usta\\Anaconda3\\lib\\site-packages\\sklearn\\linear_model\\coordinate_descent.py:475: ConvergenceWarning: Objective did not converge. You might want to increase the number of iterations. Duality gap: 5572486.693176546, tolerance: 682422.0779853245\n",
      "  positive)\n",
      "C:\\Users\\Fatih Enes Usta\\Anaconda3\\lib\\site-packages\\sklearn\\linear_model\\coordinate_descent.py:475: ConvergenceWarning: Objective did not converge. You might want to increase the number of iterations. Duality gap: 10159733.74511217, tolerance: 754070.2752435483\n",
      "  positive)\n",
      "C:\\Users\\Fatih Enes Usta\\Anaconda3\\lib\\site-packages\\sklearn\\linear_model\\coordinate_descent.py:475: ConvergenceWarning: Objective did not converge. You might want to increase the number of iterations. Duality gap: 9713821.069773573, tolerance: 814699.3775705019\n",
      "  positive)\n",
      "C:\\Users\\Fatih Enes Usta\\Anaconda3\\lib\\site-packages\\sklearn\\linear_model\\coordinate_descent.py:475: ConvergenceWarning: Objective did not converge. You might want to increase the number of iterations. Duality gap: 10247968.029979827, tolerance: 671553.4068121022\n",
      "  positive)\n",
      "C:\\Users\\Fatih Enes Usta\\Anaconda3\\lib\\site-packages\\sklearn\\linear_model\\coordinate_descent.py:475: ConvergenceWarning: Objective did not converge. You might want to increase the number of iterations. Duality gap: 6829114.776645947, tolerance: 757265.7578705021\n",
      "  positive)\n",
      "C:\\Users\\Fatih Enes Usta\\Anaconda3\\lib\\site-packages\\sklearn\\linear_model\\coordinate_descent.py:475: ConvergenceWarning: Objective did not converge. You might want to increase the number of iterations. Duality gap: 3871190.601841256, tolerance: 920722.9017414534\n",
      "  positive)\n",
      "C:\\Users\\Fatih Enes Usta\\Anaconda3\\lib\\site-packages\\sklearn\\linear_model\\coordinate_descent.py:475: ConvergenceWarning: Objective did not converge. You might want to increase the number of iterations. Duality gap: 2386496.125466086, tolerance: 682422.0779853245\n",
      "  positive)\n",
      "C:\\Users\\Fatih Enes Usta\\Anaconda3\\lib\\site-packages\\sklearn\\linear_model\\coordinate_descent.py:475: ConvergenceWarning: Objective did not converge. You might want to increase the number of iterations. Duality gap: 4016269.9049495384, tolerance: 754070.2752435483\n",
      "  positive)\n",
      "C:\\Users\\Fatih Enes Usta\\Anaconda3\\lib\\site-packages\\sklearn\\linear_model\\coordinate_descent.py:475: ConvergenceWarning: Objective did not converge. You might want to increase the number of iterations. Duality gap: 3826338.4387447312, tolerance: 814699.3775705019\n",
      "  positive)\n",
      "C:\\Users\\Fatih Enes Usta\\Anaconda3\\lib\\site-packages\\sklearn\\linear_model\\coordinate_descent.py:475: ConvergenceWarning: Objective did not converge. You might want to increase the number of iterations. Duality gap: 4978382.58656726, tolerance: 671553.4068121022\n",
      "  positive)\n",
      "C:\\Users\\Fatih Enes Usta\\Anaconda3\\lib\\site-packages\\sklearn\\linear_model\\coordinate_descent.py:475: ConvergenceWarning: Objective did not converge. You might want to increase the number of iterations. Duality gap: 10689930.570026547, tolerance: 757265.7578705021\n",
      "  positive)\n",
      "C:\\Users\\Fatih Enes Usta\\Anaconda3\\lib\\site-packages\\sklearn\\linear_model\\coordinate_descent.py:475: ConvergenceWarning: Objective did not converge. You might want to increase the number of iterations. Duality gap: 4790347.305501342, tolerance: 920722.9017414534\n",
      "  positive)\n",
      "C:\\Users\\Fatih Enes Usta\\Anaconda3\\lib\\site-packages\\sklearn\\linear_model\\coordinate_descent.py:475: ConvergenceWarning: Objective did not converge. You might want to increase the number of iterations. Duality gap: 3207626.506881971, tolerance: 682422.0779853245\n",
      "  positive)\n",
      "C:\\Users\\Fatih Enes Usta\\Anaconda3\\lib\\site-packages\\sklearn\\linear_model\\coordinate_descent.py:475: ConvergenceWarning: Objective did not converge. You might want to increase the number of iterations. Duality gap: 3319586.4351818785, tolerance: 754070.2752435483\n",
      "  positive)\n",
      "C:\\Users\\Fatih Enes Usta\\Anaconda3\\lib\\site-packages\\sklearn\\linear_model\\coordinate_descent.py:475: ConvergenceWarning: Objective did not converge. You might want to increase the number of iterations. Duality gap: 2861630.4518578127, tolerance: 814699.3775705019\n",
      "  positive)\n",
      "C:\\Users\\Fatih Enes Usta\\Anaconda3\\lib\\site-packages\\sklearn\\linear_model\\coordinate_descent.py:475: ConvergenceWarning: Objective did not converge. You might want to increase the number of iterations. Duality gap: 5021762.302321374, tolerance: 671553.4068121022\n",
      "  positive)\n",
      "C:\\Users\\Fatih Enes Usta\\Anaconda3\\lib\\site-packages\\sklearn\\linear_model\\coordinate_descent.py:475: ConvergenceWarning: Objective did not converge. You might want to increase the number of iterations. Duality gap: 1195222.8647618592, tolerance: 757265.7578705021\n",
      "  positive)\n",
      "C:\\Users\\Fatih Enes Usta\\Anaconda3\\lib\\site-packages\\sklearn\\linear_model\\coordinate_descent.py:475: ConvergenceWarning: Objective did not converge. You might want to increase the number of iterations. Duality gap: 5672153.442119211, tolerance: 920722.9017414534\n",
      "  positive)\n",
      "C:\\Users\\Fatih Enes Usta\\Anaconda3\\lib\\site-packages\\sklearn\\linear_model\\coordinate_descent.py:475: ConvergenceWarning: Objective did not converge. You might want to increase the number of iterations. Duality gap: 3864419.174535364, tolerance: 682422.0779853245\n",
      "  positive)\n",
      "C:\\Users\\Fatih Enes Usta\\Anaconda3\\lib\\site-packages\\sklearn\\linear_model\\coordinate_descent.py:475: ConvergenceWarning: Objective did not converge. You might want to increase the number of iterations. Duality gap: 3932621.8731213436, tolerance: 754070.2752435483\n",
      "  positive)\n",
      "C:\\Users\\Fatih Enes Usta\\Anaconda3\\lib\\site-packages\\sklearn\\linear_model\\coordinate_descent.py:475: ConvergenceWarning: Objective did not converge. You might want to increase the number of iterations. Duality gap: 1299096.0097566247, tolerance: 814699.3775705019\n",
      "  positive)\n",
      "C:\\Users\\Fatih Enes Usta\\Anaconda3\\lib\\site-packages\\sklearn\\linear_model\\coordinate_descent.py:475: ConvergenceWarning: Objective did not converge. You might want to increase the number of iterations. Duality gap: 4052966.7377483323, tolerance: 671553.4068121022\n",
      "  positive)\n",
      "C:\\Users\\Fatih Enes Usta\\Anaconda3\\lib\\site-packages\\sklearn\\linear_model\\coordinate_descent.py:475: ConvergenceWarning: Objective did not converge. You might want to increase the number of iterations. Duality gap: 1826174.1571712121, tolerance: 757265.7578705021\n",
      "  positive)\n",
      "C:\\Users\\Fatih Enes Usta\\Anaconda3\\lib\\site-packages\\sklearn\\linear_model\\coordinate_descent.py:475: ConvergenceWarning: Objective did not converge. You might want to increase the number of iterations. Duality gap: 6403192.185899377, tolerance: 920722.9017414534\n",
      "  positive)\n",
      "C:\\Users\\Fatih Enes Usta\\Anaconda3\\lib\\site-packages\\sklearn\\linear_model\\coordinate_descent.py:475: ConvergenceWarning: Objective did not converge. You might want to increase the number of iterations. Duality gap: 4139938.201672584, tolerance: 682422.0779853245\n",
      "  positive)\n",
      "C:\\Users\\Fatih Enes Usta\\Anaconda3\\lib\\site-packages\\sklearn\\linear_model\\coordinate_descent.py:475: ConvergenceWarning: Objective did not converge. You might want to increase the number of iterations. Duality gap: 1661275.8597907573, tolerance: 754070.2752435483\n",
      "  positive)\n",
      "C:\\Users\\Fatih Enes Usta\\Anaconda3\\lib\\site-packages\\sklearn\\linear_model\\coordinate_descent.py:475: ConvergenceWarning: Objective did not converge. You might want to increase the number of iterations. Duality gap: 2018601.0511083603, tolerance: 671553.4068121022\n",
      "  positive)\n",
      "C:\\Users\\Fatih Enes Usta\\Anaconda3\\lib\\site-packages\\sklearn\\linear_model\\coordinate_descent.py:475: ConvergenceWarning: Objective did not converge. You might want to increase the number of iterations. Duality gap: 2249183.177654341, tolerance: 757265.7578705021\n",
      "  positive)\n",
      "C:\\Users\\Fatih Enes Usta\\Anaconda3\\lib\\site-packages\\sklearn\\linear_model\\coordinate_descent.py:475: ConvergenceWarning: Objective did not converge. You might want to increase the number of iterations. Duality gap: 3345658.6850891337, tolerance: 682422.0779853245\n",
      "  positive)\n"
     ]
    },
    {
     "name": "stderr",
     "output_type": "stream",
     "text": [
      "C:\\Users\\Fatih Enes Usta\\Anaconda3\\lib\\site-packages\\sklearn\\linear_model\\coordinate_descent.py:475: ConvergenceWarning: Objective did not converge. You might want to increase the number of iterations. Duality gap: 1951208.5733183473, tolerance: 754070.2752435483\n",
      "  positive)\n",
      "C:\\Users\\Fatih Enes Usta\\Anaconda3\\lib\\site-packages\\sklearn\\linear_model\\coordinate_descent.py:475: ConvergenceWarning: Objective did not converge. You might want to increase the number of iterations. Duality gap: 1996362.7661572695, tolerance: 814699.3775705019\n",
      "  positive)\n",
      "C:\\Users\\Fatih Enes Usta\\Anaconda3\\lib\\site-packages\\sklearn\\linear_model\\coordinate_descent.py:475: ConvergenceWarning: Objective did not converge. You might want to increase the number of iterations. Duality gap: 3310463.4492251575, tolerance: 671553.4068121022\n",
      "  positive)\n",
      "C:\\Users\\Fatih Enes Usta\\Anaconda3\\lib\\site-packages\\sklearn\\linear_model\\coordinate_descent.py:475: ConvergenceWarning: Objective did not converge. You might want to increase the number of iterations. Duality gap: 2654534.525762975, tolerance: 757265.7578705021\n",
      "  positive)\n",
      "C:\\Users\\Fatih Enes Usta\\Anaconda3\\lib\\site-packages\\sklearn\\linear_model\\coordinate_descent.py:475: ConvergenceWarning: Objective did not converge. You might want to increase the number of iterations. Duality gap: 3114871.307598278, tolerance: 682422.0779853245\n",
      "  positive)\n",
      "C:\\Users\\Fatih Enes Usta\\Anaconda3\\lib\\site-packages\\sklearn\\linear_model\\coordinate_descent.py:475: ConvergenceWarning: Objective did not converge. You might want to increase the number of iterations. Duality gap: 2230067.00587216, tolerance: 754070.2752435483\n",
      "  positive)\n",
      "C:\\Users\\Fatih Enes Usta\\Anaconda3\\lib\\site-packages\\sklearn\\linear_model\\coordinate_descent.py:475: ConvergenceWarning: Objective did not converge. You might want to increase the number of iterations. Duality gap: 1722761.4386244714, tolerance: 814699.3775705019\n",
      "  positive)\n",
      "C:\\Users\\Fatih Enes Usta\\Anaconda3\\lib\\site-packages\\sklearn\\linear_model\\coordinate_descent.py:475: ConvergenceWarning: Objective did not converge. You might want to increase the number of iterations. Duality gap: 2457602.783523649, tolerance: 671553.4068121022\n",
      "  positive)\n",
      "C:\\Users\\Fatih Enes Usta\\Anaconda3\\lib\\site-packages\\sklearn\\linear_model\\coordinate_descent.py:475: ConvergenceWarning: Objective did not converge. You might want to increase the number of iterations. Duality gap: 804624.8477356881, tolerance: 757265.7578705021\n",
      "  positive)\n",
      "C:\\Users\\Fatih Enes Usta\\Anaconda3\\lib\\site-packages\\sklearn\\linear_model\\coordinate_descent.py:475: ConvergenceWarning: Objective did not converge. You might want to increase the number of iterations. Duality gap: 2539143.7198188603, tolerance: 682422.0779853245\n",
      "  positive)\n",
      "C:\\Users\\Fatih Enes Usta\\Anaconda3\\lib\\site-packages\\sklearn\\linear_model\\coordinate_descent.py:475: ConvergenceWarning: Objective did not converge. You might want to increase the number of iterations. Duality gap: 2471832.9226468354, tolerance: 754070.2752435483\n",
      "  positive)\n",
      "C:\\Users\\Fatih Enes Usta\\Anaconda3\\lib\\site-packages\\sklearn\\linear_model\\coordinate_descent.py:475: ConvergenceWarning: Objective did not converge. You might want to increase the number of iterations. Duality gap: 1645143.9604065716, tolerance: 814699.3775705019\n",
      "  positive)\n",
      "C:\\Users\\Fatih Enes Usta\\Anaconda3\\lib\\site-packages\\sklearn\\linear_model\\coordinate_descent.py:475: ConvergenceWarning: Objective did not converge. You might want to increase the number of iterations. Duality gap: 1337720.912394479, tolerance: 671553.4068121022\n",
      "  positive)\n",
      "C:\\Users\\Fatih Enes Usta\\Anaconda3\\lib\\site-packages\\sklearn\\linear_model\\coordinate_descent.py:475: ConvergenceWarning: Objective did not converge. You might want to increase the number of iterations. Duality gap: 1584191.2086218446, tolerance: 682422.0779853245\n",
      "  positive)\n",
      "C:\\Users\\Fatih Enes Usta\\Anaconda3\\lib\\site-packages\\sklearn\\linear_model\\coordinate_descent.py:475: ConvergenceWarning: Objective did not converge. You might want to increase the number of iterations. Duality gap: 2491491.97260651, tolerance: 754070.2752435483\n",
      "  positive)\n",
      "C:\\Users\\Fatih Enes Usta\\Anaconda3\\lib\\site-packages\\sklearn\\linear_model\\coordinate_descent.py:475: ConvergenceWarning: Objective did not converge. You might want to increase the number of iterations. Duality gap: 742574.432035163, tolerance: 671553.4068121022\n",
      "  positive)\n",
      "C:\\Users\\Fatih Enes Usta\\Anaconda3\\lib\\site-packages\\sklearn\\linear_model\\coordinate_descent.py:475: ConvergenceWarning: Objective did not converge. You might want to increase the number of iterations. Duality gap: 785399.7079019397, tolerance: 682422.0779853245\n",
      "  positive)\n",
      "C:\\Users\\Fatih Enes Usta\\Anaconda3\\lib\\site-packages\\sklearn\\linear_model\\coordinate_descent.py:475: ConvergenceWarning: Objective did not converge. You might want to increase the number of iterations. Duality gap: 798884.7186846137, tolerance: 682422.0779853245\n",
      "  positive)\n",
      "C:\\Users\\Fatih Enes Usta\\Anaconda3\\lib\\site-packages\\sklearn\\linear_model\\coordinate_descent.py:475: ConvergenceWarning: Objective did not converge. You might want to increase the number of iterations. Duality gap: 1077081.8464377671, tolerance: 682422.0779853245\n",
      "  positive)\n",
      "C:\\Users\\Fatih Enes Usta\\Anaconda3\\lib\\site-packages\\sklearn\\linear_model\\coordinate_descent.py:475: ConvergenceWarning: Objective did not converge. You might want to increase the number of iterations. Duality gap: 1197963.329825312, tolerance: 682422.0779853245\n",
      "  positive)\n",
      "C:\\Users\\Fatih Enes Usta\\Anaconda3\\lib\\site-packages\\sklearn\\linear_model\\coordinate_descent.py:475: ConvergenceWarning: Objective did not converge. You might want to increase the number of iterations. Duality gap: 1202402.964525491, tolerance: 682422.0779853245\n",
      "  positive)\n",
      "C:\\Users\\Fatih Enes Usta\\Anaconda3\\lib\\site-packages\\sklearn\\linear_model\\coordinate_descent.py:475: ConvergenceWarning: Objective did not converge. You might want to increase the number of iterations. Duality gap: 1199881.307437688, tolerance: 682422.0779853245\n",
      "  positive)\n",
      "C:\\Users\\Fatih Enes Usta\\Anaconda3\\lib\\site-packages\\sklearn\\linear_model\\coordinate_descent.py:475: ConvergenceWarning: Objective did not converge. You might want to increase the number of iterations. Duality gap: 1818743.9138896763, tolerance: 682422.0779853245\n",
      "  positive)\n",
      "C:\\Users\\Fatih Enes Usta\\Anaconda3\\lib\\site-packages\\sklearn\\linear_model\\coordinate_descent.py:475: ConvergenceWarning: Objective did not converge. You might want to increase the number of iterations. Duality gap: 1567898.0932499468, tolerance: 682422.0779853245\n",
      "  positive)\n",
      "C:\\Users\\Fatih Enes Usta\\Anaconda3\\lib\\site-packages\\sklearn\\linear_model\\coordinate_descent.py:475: ConvergenceWarning: Objective did not converge. You might want to increase the number of iterations. Duality gap: 1231017.5912878811, tolerance: 682422.0779853245\n",
      "  positive)\n",
      "C:\\Users\\Fatih Enes Usta\\Anaconda3\\lib\\site-packages\\sklearn\\linear_model\\coordinate_descent.py:475: ConvergenceWarning: Objective did not converge. You might want to increase the number of iterations. Duality gap: 1056272.1572961807, tolerance: 682422.0779853245\n",
      "  positive)\n",
      "C:\\Users\\Fatih Enes Usta\\Anaconda3\\lib\\site-packages\\sklearn\\linear_model\\coordinate_descent.py:475: ConvergenceWarning: Objective did not converge. You might want to increase the number of iterations. Duality gap: 817554.8654008508, tolerance: 682422.0779853245\n",
      "  positive)\n"
     ]
    }
   ],
   "source": [
    "#i created two dict. to first get the all the scores and for the second to get the mse of them.\n",
    "all_scores = {}\n",
    "#this one is for means.\n",
    "mean_scores = {}\n",
    "#in the loop, passed(i) as the alpha to get the values on lasso and after that get the cross_val_scores.\n",
    "\n",
    "#in the question it said between 1 and 3000 so, set the last value as 3010 to reach the 3000 alpha\n",
    "for i in range(1,3010,10):\n",
    "    lasso_reg = Lasso(alpha = i)\n",
    "    lasso = lasso_reg.fit(train_x_m, train_y) \n",
    "    lasso_reg.predict(train_x_m)\n",
    "    lasso_cross_scores = cross_val_score(lasso_reg, train_x_m, train_y, scoring=\"neg_mean_squared_error\", cv=5)    \n",
    "    #i filled my dictionaries\n",
    "    all_scores[i] = abs(lasso_cross_scores)\n",
    "    mean_scores[i] = abs(lasso_cross_scores.mean())\n",
    "\n",
    "#in here i get the alpha from the min score from the mean scores dictionary, it is the key.\n",
    "min_alpha = min(mean_scores, key=mean_scores.get)\n",
    "#in here i pass the key to get the value of that.\n",
    "min_error = mean_scores.get(min_alpha)\n"
   ]
  },
  {
   "cell_type": "code",
   "execution_count": 34,
   "metadata": {
    "ExecuteTime": {
     "end_time": "2019-11-03T19:40:23.083729Z",
     "start_time": "2019-11-03T19:40:23.046853Z"
    },
    "scrolled": false
   },
   "outputs": [
    {
     "data": {
      "text/plain": [
       "Text(0, 0.5, 'Average MSE scores')"
      ]
     },
     "execution_count": 34,
     "metadata": {},
     "output_type": "execute_result"
    },
    {
     "data": {
      "image/png": "[encoded data removed]",
      "text/plain": [
       "<Figure size 432x288 with 1 Axes>"
      ]
     },
     "metadata": {
      "needs_background": "light"
     },
     "output_type": "display_data"
    }
   ],
   "source": [
    "#getting the values for the plotting part\n",
    "all_list = list(all_scores.values())\n",
    "#getting the respective alpha values\n",
    "alpha_keys = list(all_scores.keys())\n",
    "#average cv scores getting with mean\n",
    "average_cv_scores = np.mean(all_list, axis = 1)\n",
    "np.where(average_cv_scores == average_cv_scores.min())\n",
    "\n",
    "#plotting part with average scores and respective alpha keys\n",
    "plt.plot(alpha_keys, average_cv_scores)\n",
    "plt.xlabel('Alpha Keys')\n",
    "plt.ylabel('Average MSE scores')"
   ]
  },
  {
   "cell_type": "code",
   "execution_count": 35,
   "metadata": {},
   "outputs": [
    {
     "name": "stdout",
     "output_type": "stream",
     "text": [
      "Minimum error was 9715326.99 at alpha 261\n"
     ]
    }
   ],
   "source": [
    "print(f\"Minimum error was {round(min_error, 2)} at alpha {min_alpha}\")"
   ]
  },
  {
   "cell_type": "markdown",
   "metadata": {},
   "source": [
    "### part p"
   ]
  },
  {
   "cell_type": "code",
   "execution_count": 36,
   "metadata": {},
   "outputs": [
    {
     "name": "stdout",
     "output_type": "stream",
     "text": [
      "Fitting 5 folds for each of 56 candidates, totalling 280 fits\n"
     ]
    },
    {
     "name": "stderr",
     "output_type": "stream",
     "text": [
      "[Parallel(n_jobs=4)]: Using backend LokyBackend with 4 concurrent workers.\n",
      "[Parallel(n_jobs=4)]: Done  33 tasks      | elapsed:    6.0s\n"
     ]
    },
    {
     "name": "stdout",
     "output_type": "stream",
     "text": [
      "9849741.472749684\n",
      "{'C': 3000.0, 'kernel': 'linear'}\n"
     ]
    },
    {
     "name": "stderr",
     "output_type": "stream",
     "text": [
      "[Parallel(n_jobs=4)]: Done 280 out of 280 | elapsed:    9.3s finished\n",
      "C:\\Users\\Fatih Enes Usta\\Anaconda3\\lib\\site-packages\\sklearn\\utils\\validation.py:724: DataConversionWarning: A column-vector y was passed when a 1d array was expected. Please change the shape of y to (n_samples, ), for example using ravel().\n",
      "  y = column_or_1d(y, warn=True)\n"
     ]
    }
   ],
   "source": [
    "#in this part we use gridSearch with SVR\n",
    "from sklearn.model_selection import GridSearchCV\n",
    "from sklearn.svm import SVR\n",
    "\n",
    "#we put the parameters as in the assignment\n",
    "param_grid = [\n",
    "        {'kernel': ['linear'], 'C': [10.0, 30.0, 100.0, 300.0, 1000.0, 3000.0, 10000.0, 30000.0]},\n",
    "        {'kernel': ['rbf'], 'C': [1.0, 3.0, 10.0, 30.0, 100.0, 300.0, 1000.0, 3000.0],\n",
    "         'gamma': [0.01, 0.03, 0.1, 0.3, 1.0, 3.0]},\n",
    "    ]\n",
    "\n",
    "#calling svr and doing grid search\n",
    "svm_reg = SVR()\n",
    "grid_search = GridSearchCV(svm_reg, param_grid, cv=5, scoring='neg_mean_squared_error', verbose=2, n_jobs=4)\n",
    "#fitting our datas.\n",
    "grid_search.fit(train_x_e, train_y)\n",
    "\n",
    "#getting the best score since we get it negative we multipy it with (-)\n",
    "negative_mse = grid_search.best_score_\n",
    "best_mse = np.mean(-negative_mse)\n",
    "#this part we get the best parameter.\n",
    "best_parameters = grid_search.best_params_\n",
    "\n",
    "print(best_mse)\n",
    "print(best_parameters)"
   ]
  },
  {
   "cell_type": "code",
   "execution_count": null,
   "metadata": {},
   "outputs": [],
   "source": []
  },
  {
   "cell_type": "code",
   "execution_count": null,
   "metadata": {},
   "outputs": [],
   "source": []
  },
  {
   "cell_type": "code",
   "execution_count": null,
   "metadata": {},
   "outputs": [],
   "source": []
  },
  {
   "cell_type": "code",
   "execution_count": null,
   "metadata": {},
   "outputs": [],
   "source": []
  }
 ],
 "metadata": {
  "kernelspec": {
   "display_name": "Python 3",
   "language": "python",
   "name": "python3"
  },
  "language_info": {
   "codemirror_mode": {
    "name": "ipython",
    "version": 3
   },
   "file_extension": ".py",
   "mimetype": "text/x-python",
   "name": "python",
   "nbconvert_exporter": "python",
   "pygments_lexer": "ipython3",
   "version": "3.7.3"
  },
  "toc": {
   "base_numbering": 1,
   "nav_menu": {},
   "number_sections": true,
   "sideBar": true,
   "skip_h1_title": false,
   "title_cell": "Table of Contents",
   "title_sidebar": "Contents",
   "toc_cell": false,
   "toc_position": {},
   "toc_section_display": true,
   "toc_window_display": false
  }
 },
 "nbformat": 4,
 "nbformat_minor": 2
}
